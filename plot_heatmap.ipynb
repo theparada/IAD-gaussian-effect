{
 "cells": [
  {
   "cell_type": "code",
   "execution_count": null,
   "metadata": {},
   "outputs": [],
   "source": [
    "import heatmap_eval\n",
    "import numpy as np\n",
    "from matplotlib import cm\n",
    "import matplotlib.pyplot as plt"
   ]
  },
  {
   "cell_type": "code",
   "execution_count": null,
   "metadata": {},
   "outputs": [],
   "source": [
    "reduc = [1.0, 0.8, 0.5, 0.3, 0.2, 0.15, 0.1]\n",
    "fraction = [\"\", \"080\",\"050\",\"030\",\"020\",\"015\",\"010\"]\n",
    "sbs = [\"006\",\"007\",\"009\",\"015\",\"020\",\"030\",\"040\",\"050\",\"100\",\"150\",\"250\"]"
   ]
  },
  {
   "cell_type": "code",
   "execution_count": null,
   "metadata": {},
   "outputs": [],
   "source": []
  }
 ],
 "metadata": {
  "language_info": {
   "name": "python"
  },
  "orig_nbformat": 4
 },
 "nbformat": 4,
 "nbformat_minor": 2
}
