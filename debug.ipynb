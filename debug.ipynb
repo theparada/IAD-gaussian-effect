{
 "cells": [
  {
   "cell_type": "code",
   "execution_count": 1,
   "metadata": {},
   "outputs": [],
   "source": [
    "import numpy as np\n",
    "import torch\n",
    "import math\n",
    "import matplotlib.pyplot as plt\n",
    "import sklearn\n",
    "import data_process\n",
    "import define_model"
   ]
  },
  {
   "cell_type": "code",
   "execution_count": 9,
   "metadata": {},
   "outputs": [],
   "source": [
    "import h5py\n",
    "# load data\n",
    "s_sr = h5py.File(\"data/LHCO_pointcloud/events_s_sr.h5\")\n",
    "s_br = h5py.File(\"data/LHCO_pointcloud/events_s_br.h5\")\n",
    "b_sr = h5py.File(\"data/LHCO_pointcloud/events_b_sr.h5\")\n",
    "b_br = h5py.File(\"data/LHCO_pointcloud/events_b_br.h5\")\n",
    "ex_bg1 = h5py.File(\"data/LHCO_pointcloud/extra_bg1.h5\")\n",
    "ex_bg2 = h5py.File(\"data/LHCO_pointcloud/extra_bg2.h5\")"
   ]
  },
  {
   "cell_type": "code",
   "execution_count": 10,
   "metadata": {},
   "outputs": [],
   "source": [
    "def prepare_jets(data, mjjmin=3.3, mjjmax=3.7):\n",
    "    # make np array\n",
    "    prejet1 = np.array(data[\"jet1_PFCands\"])\n",
    "    m_prej1 = np.array(data[\"jet_kinematics\"][:, 5])\n",
    "    prejet2 = np.array(data[\"jet2_PFCands\"])\n",
    "    m_prej2 = np.array(data[\"jet_kinematics\"][:, 9])\n",
    "    label = np.array(data[\"truth_label\"])\n",
    "    mjj = np.array(data[\"jet_kinematics\"][:, 0])\n",
    "    mjj = mjj/1000\n",
    "    # mjj = np.resize(mjj, (len(mjj), 1))\n",
    "\n",
    "    # reshape to (, 200 , 3) \n",
    "    prejet1 = np.resize(prejet1, (len(prejet1), 100, 3))\n",
    "    prejet2 = np.resize(prejet2, (len(prejet2), 100, 3))\n",
    "\n",
    "    # sort jets\n",
    "    for i in range(len(prejet1)):\n",
    "        hold = np.array([])\n",
    "        if (m_prej1[i]<m_prej2[i]):\n",
    "            hold = prejet1[i]\n",
    "            prejet1[i] = prejet2[i]\n",
    "            prejet2[i] = hold\n",
    "\n",
    "    # make jet labels\n",
    "    jet1 = np.concatenate((prejet1, np.zeros((len(prejet1), 100, 1))), axis = 2)    \n",
    "    jet2 = np.concatenate((prejet2, np.ones((len(prejet2), 100, 1))), axis = 2)\n",
    "    \n",
    "    full_events = np.concatenate((jet1, jet2), axis=1)\n",
    "\n",
    "    # mask mjj\n",
    "    mask = (mjj>mjjmin) & (mjj<mjjmax)\n",
    "    full_events = full_events[mask]\n",
    "    label = label[mask]\n",
    "    return full_events, label\n",
    "\n",
    "def combine_data(data1, data2):\n",
    "    x1, y1 = prepare_jets(data1)\n",
    "    x2, y2 = prepare_jets(data2)\n",
    "    features = np.concatenate((x1, x2), axis=0)\n",
    "    label = np.concatenate((y1, y2), axis=0)\n",
    "    return features, label\n",
    "\n",
    "def data_label(y, is_data=True):\n",
    "    y = np.resize(y, (len(y), 1))\n",
    "    if is_data:\n",
    "        y = np.concatenate((y, np.ones((len(y), 1))), axis=1)\n",
    "    else:\n",
    "        y = np.concatenate((y, np.zeros((len(y), 1))), axis=1)\n",
    "    return y"
   ]
  },
  {
   "cell_type": "code",
   "execution_count": 11,
   "metadata": {},
   "outputs": [],
   "source": [
    "# prepare to make datasets\n",
    "sig, label_sig = combine_data(s_sr, s_br)\n",
    "bkg, label_bkg = combine_data(b_sr, b_br)\n",
    "extra1, label_extra1 = prepare_jets(ex_bg1)\n",
    "extra2, label_extra2 = prepare_jets(ex_bg2)"
   ]
  },
  {
   "cell_type": "code",
   "execution_count": 16,
   "metadata": {},
   "outputs": [
    {
     "data": {
      "image/png": "[encoded data removed]",
      "text/plain": [
       "<Figure size 640x480 with 1 Axes>"
      ]
     },
     "metadata": {},
     "output_type": "display_data"
    }
   ],
   "source": [
    "plt.hist(np.ndarray.flatten(sig[:,:,0]), bins=100)\n",
    "plt.yscale(\"log\")"
   ]
  }
 ],
 "metadata": {
  "kernelspec": {
   "display_name": "Python 3.9.12 ('idealized': conda)",
   "language": "python",
   "name": "python3"
  },
  "language_info": {
   "codemirror_mode": {
    "name": "ipython",
    "version": 3
   },
   "file_extension": ".py",
   "mimetype": "text/x-python",
   "name": "python",
   "nbconvert_exporter": "python",
   "pygments_lexer": "ipython3",
   "version": "3.9.12"
  },
  "orig_nbformat": 4,
  "vscode": {
   "interpreter": {
    "hash": "6231801b00634147c6b73a993af7a1fa82893dd75955a7b0de49516f02d226a1"
   }
  }
 },
 "nbformat": 4,
 "nbformat_minor": 2
}
