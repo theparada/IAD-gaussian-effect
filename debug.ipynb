{
 "cells": [
  {
   "cell_type": "code",
   "execution_count": 1,
   "metadata": {},
   "outputs": [],
   "source": [
    "import numpy as np\n",
    "import torch\n",
    "import math\n",
    "import matplotlib.pyplot as plt\n",
    "import sklearn\n",
    "import data_process\n",
    "import define_model"
   ]
  },
  {
   "cell_type": "code",
   "execution_count": 3,
   "metadata": {},
   "outputs": [
    {
     "name": "stdout",
     "output_type": "stream",
     "text": [
      "27263\n",
      "27286\n",
      "27226\n",
      "27108\n",
      "26756\n",
      "26458\n",
      "25863\n",
      "25273\n",
      "24674\n",
      "21699\n",
      "18746\n",
      "12869\n"
     ]
    }
   ],
   "source": [
    "sbs = [\"006\",\"007\",\"009\",\"015\",\"020\",\"030\",\"040\",\"050\", \"100\", \"150\", \"250\"]\n",
    "x_dict = dict.fromkeys(sbs, 0)\n",
    "y_dict = dict.fromkeys(sbs, 0)\n",
    "\n",
    "x_ref = np.load('new_separated_data/innerdata_extrasig_train.npy')\n",
    "print(len(x_ref))\n",
    "\n",
    "for sb in sbs:\n",
    "    x_dict[sb] = np.load(\"data_SB_\" + sb + '/innerdata_extrasig_train.npy')\n",
    "    print(len(x_dict[sb]))\n",
    "    # y_dict[sb] = np.load(\"X_files/y_train\"+sb+\".npy\")\n",
    "\n"
   ]
  }
 ],
 "metadata": {
  "kernelspec": {
   "display_name": "Python 3.9.12 ('idealized': conda)",
   "language": "python",
   "name": "python3"
  },
  "language_info": {
   "codemirror_mode": {
    "name": "ipython",
    "version": 3
   },
   "file_extension": ".py",
   "mimetype": "text/x-python",
   "name": "python",
   "nbconvert_exporter": "python",
   "pygments_lexer": "ipython3",
   "version": "3.9.12"
  },
  "orig_nbformat": 4,
  "vscode": {
   "interpreter": {
    "hash": "6231801b00634147c6b73a993af7a1fa82893dd75955a7b0de49516f02d226a1"
   }
  }
 },
 "nbformat": 4,
 "nbformat_minor": 2
}
