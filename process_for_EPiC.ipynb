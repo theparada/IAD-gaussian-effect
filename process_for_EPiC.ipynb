{
 "cells": [
  {
   "cell_type": "code",
   "execution_count": null,
   "metadata": {},
   "outputs": [],
   "source": []
  }
 ],
 "metadata": {
  "kernelspec": {
   "display_name": "idealized",
   "language": "python",
   "name": "python3"
  },
  "language_info": {
   "name": "python",
   "version": "3.9.12"
  },
  "orig_nbformat": 4,
  "vscode": {
   "interpreter": {
    "hash": "6231801b00634147c6b73a993af7a1fa82893dd75955a7b0de49516f02d226a1"
   }
  }
 },
 "nbformat": 4,
 "nbformat_minor": 2
}
