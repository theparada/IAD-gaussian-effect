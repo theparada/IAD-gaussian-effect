{
 "cells": [
  {
   "cell_type": "code",
   "execution_count": 1,
   "metadata": {},
   "outputs": [],
   "source": [
    "import pandas as pd\n",
    "import numpy as np\n",
    "import os\n",
    "from os.path import join\n",
    "import h5py"
   ]
  },
  {
   "cell_type": "code",
   "execution_count": 6,
   "metadata": {},
   "outputs": [],
   "source": [
    "# load data\n",
    "s_sr = h5py.File(\"data/LHCO_pointcloud/events_s_sr.h5\")\n",
    "s_br = h5py.File(\"data/LHCO_pointcloud/events_s_br.h5\")\n",
    "b_sr = h5py.File(\"data/LHCO_pointcloud/events_b_sr.h5\")\n",
    "b_br = h5py.File(\"data/LHCO_pointcloud/events_b_br.h5\")\n",
    "ex_bg1 = h5py.File(\"data/LHCO_pointcloud/extra_bg1.h5\")\n",
    "ex_bg2 = h5py.File(\"data/LHCO_pointcloud/extra_bg2.h5\")"
   ]
  },
  {
   "cell_type": "code",
   "execution_count": 18,
   "metadata": {},
   "outputs": [
    {
     "name": "stdout",
     "output_type": "stream",
     "text": [
      "(88967,)\n"
     ]
    },
    {
     "data": {
      "text/plain": [
       "(array([[[ 7.69921875,  0.62597656, -2.82617188,  0.        ],\n",
       "         [ 1.49609375,  0.64453125, -2.42382812,  0.        ],\n",
       "         [ 6.25      ,  0.66064453, -2.12304688,  0.        ],\n",
       "         ...,\n",
       "         [ 0.        ,  0.        ,  0.        ,  1.        ],\n",
       "         [ 0.        ,  0.        ,  0.        ,  1.        ],\n",
       "         [ 0.        ,  0.        ,  0.        ,  1.        ]],\n",
       " \n",
       "        [[ 6.04296875,  1.17871094,  0.17712402,  0.        ],\n",
       "         [ 5.8671875 ,  1.16992188,  0.44458008,  0.        ],\n",
       "         [ 8.46875   ,  1.18457031,  0.30273438,  0.        ],\n",
       "         ...,\n",
       "         [ 0.        ,  0.        ,  0.        ,  1.        ],\n",
       "         [ 0.        ,  0.        ,  0.        ,  1.        ],\n",
       "         [ 0.        ,  0.        ,  0.        ,  1.        ]],\n",
       " \n",
       "        [[16.4375    ,  0.53417969,  1.42382812,  0.        ],\n",
       "         [ 1.87207031,  0.39282227,  1.49414062,  0.        ],\n",
       "         [ 7.4921875 ,  0.4921875 ,  1.50683594,  0.        ],\n",
       "         ...,\n",
       "         [ 0.        ,  0.        ,  0.        ,  1.        ],\n",
       "         [ 0.        ,  0.        ,  0.        ,  1.        ],\n",
       "         [ 0.        ,  0.        ,  0.        ,  1.        ]],\n",
       " \n",
       "        ...,\n",
       " \n",
       "        [[ 0.59863281,  0.17468262,  2.109375  ,  0.        ],\n",
       "         [ 1.33984375,  0.13476562,  2.15625   ,  0.        ],\n",
       "         [ 1.40625   , -0.36547852,  2.31445312,  0.        ],\n",
       "         ...,\n",
       "         [ 0.        ,  0.        ,  0.        ,  1.        ],\n",
       "         [ 0.        ,  0.        ,  0.        ,  1.        ],\n",
       "         [ 0.        ,  0.        ,  0.        ,  1.        ]],\n",
       " \n",
       "        [[ 1.71386719, -0.59667969, -2.81445312,  0.        ],\n",
       "         [ 2.58398438, -0.59082031, -2.78710938,  0.        ],\n",
       "         [ 3.00585938, -0.60644531, -2.765625  ,  0.        ],\n",
       "         ...,\n",
       "         [ 0.        ,  0.        ,  0.        ,  1.        ],\n",
       "         [ 0.        ,  0.        ,  0.        ,  1.        ],\n",
       "         [ 0.        ,  0.        ,  0.        ,  1.        ]],\n",
       " \n",
       "        [[ 3.91601562, -0.48388672, -1.140625  ,  0.        ],\n",
       "         [ 5.40234375, -0.69189453, -1.29101562,  0.        ],\n",
       "         [ 0.88330078, -0.3449707 , -2.07226562,  0.        ],\n",
       "         ...,\n",
       "         [ 0.        ,  0.        ,  0.        ,  1.        ],\n",
       "         [ 0.        ,  0.        ,  0.        ,  1.        ],\n",
       "         [ 0.        ,  0.        ,  0.        ,  1.        ]]]),\n",
       " array([[1],\n",
       "        [1],\n",
       "        [1],\n",
       "        ...,\n",
       "        [1],\n",
       "        [1],\n",
       "        [1]], dtype=int8))"
      ]
     },
     "execution_count": 18,
     "metadata": {},
     "output_type": "execute_result"
    }
   ],
   "source": [
    "def prepare_jets(data, mjjmin=3.3, mjjmax=3.7):\n",
    "    # make np array\n",
    "    prejet1 = np.array(data[\"jet1_PFCands\"])\n",
    "    m_prej1 = np.array(data[\"jet_kinematics\"][:, 5])\n",
    "    prejet2 = np.array(data[\"jet2_PFCands\"])\n",
    "    m_prej2 = np.array(data[\"jet_kinematics\"][:, 9])\n",
    "    label = np.array(data[\"truth_label\"])\n",
    "    mjj = np.array(data[\"jet_kinematics\"][:, 0])\n",
    "    mjj = mjj/1000\n",
    "    # mjj = np.resize(mjj, (len(mjj), 1))\n",
    "\n",
    "    # reshape to (, 200 , 3) \n",
    "    prejet1 = np.resize(prejet1, (len(prejet1), 200, 3))\n",
    "    prejet2 = np.resize(prejet2, (len(prejet2), 200, 3))\n",
    "\n",
    "    # sort jets\n",
    "    for i in range(len(prejet1)):\n",
    "        hold = np.array([])\n",
    "        if (m_prej1[i]<m_prej2[i]):\n",
    "            hold = prejet1[i]\n",
    "            prejet1[i] = prejet2[i]\n",
    "            prejet2[i] = hold\n",
    "\n",
    "    # make jet labels\n",
    "    jet1 = np.concatenate((prejet1, np.zeros((len(prejet1), 200, 1))), axis = 2)    \n",
    "    jet2 = np.concatenate((prejet2, np.ones((len(prejet2), 200, 1))), axis = 2)\n",
    "    \n",
    "    full_events = np.concatenate((jet1, jet2), axis=1)\n",
    "\n",
    "    # mask mjj\n",
    "    mask = (mjj>mjjmin) & (mjj<mjjmax)\n",
    "    full_events = full_events[mask]\n",
    "    label = label[mask]\n",
    "    return full_events, label"
   ]
  }
 ],
 "metadata": {
  "kernelspec": {
   "display_name": "idealized",
   "language": "python",
   "name": "python3"
  },
  "language_info": {
   "codemirror_mode": {
    "name": "ipython",
    "version": 3
   },
   "file_extension": ".py",
   "mimetype": "text/x-python",
   "name": "python",
   "nbconvert_exporter": "python",
   "pygments_lexer": "ipython3",
   "version": "3.9.12"
  },
  "orig_nbformat": 4,
  "vscode": {
   "interpreter": {
    "hash": "6231801b00634147c6b73a993af7a1fa82893dd75955a7b0de49516f02d226a1"
   }
  }
 },
 "nbformat": 4,
 "nbformat_minor": 2
}
